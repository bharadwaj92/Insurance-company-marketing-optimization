{
 "cells": [
  {
   "cell_type": "code",
   "execution_count": 1,
   "metadata": {
    "collapsed": true
   },
   "outputs": [],
   "source": [
    "# setup\n",
    "import numpy as np\n",
    "import pandas as pd\n",
    "%matplotlib inline\n",
    "import matplotlib.pyplot as plt\n",
    "import seaborn; seaborn.set()  # set plot style\n",
    "rand = np.random.RandomState(42)\n",
    "from pandas.tools.plotting import andrews_curves, parallel_coordinates, radviz"
   ]
  },
  {
   "cell_type": "markdown",
   "metadata": {},
   "source": [
    "Load Data Files\n",
    "=="
   ]
  },
  {
   "cell_type": "markdown",
   "metadata": {},
   "source": [
    "![Alt text](data description.JPG)"
   ]
  },
  {
   "cell_type": "code",
   "execution_count": 11,
   "metadata": {
    "collapsed": false
   },
   "outputs": [
    {
     "data": {
      "text/html": [
       "<div>\n",
       "<table border=\"1\" class=\"dataframe\">\n",
       "  <thead>\n",
       "    <tr style=\"text-align: right;\">\n",
       "      <th></th>\n",
       "      <th>custAge</th>\n",
       "      <th>profession</th>\n",
       "      <th>marital</th>\n",
       "      <th>schooling</th>\n",
       "      <th>default</th>\n",
       "      <th>housing</th>\n",
       "      <th>loan</th>\n",
       "      <th>contact</th>\n",
       "      <th>month</th>\n",
       "      <th>day_of_week</th>\n",
       "      <th>...</th>\n",
       "      <th>emp.var.rate</th>\n",
       "      <th>cons.price.idx</th>\n",
       "      <th>cons.conf.idx</th>\n",
       "      <th>euribor3m</th>\n",
       "      <th>nr.employed</th>\n",
       "      <th>pmonths</th>\n",
       "      <th>pastEmail</th>\n",
       "      <th>responded</th>\n",
       "      <th>profit</th>\n",
       "      <th>id</th>\n",
       "    </tr>\n",
       "  </thead>\n",
       "  <tbody>\n",
       "    <tr>\n",
       "      <th>0</th>\n",
       "      <td>49.0</td>\n",
       "      <td>self-employed</td>\n",
       "      <td>married</td>\n",
       "      <td>basic.9y</td>\n",
       "      <td>no</td>\n",
       "      <td>yes</td>\n",
       "      <td>no</td>\n",
       "      <td>telephone</td>\n",
       "      <td>may</td>\n",
       "      <td>thu</td>\n",
       "      <td>...</td>\n",
       "      <td>1.1</td>\n",
       "      <td>93.994</td>\n",
       "      <td>-36.4</td>\n",
       "      <td>4.860</td>\n",
       "      <td>5191.0</td>\n",
       "      <td>999.0</td>\n",
       "      <td>0</td>\n",
       "      <td>no</td>\n",
       "      <td>NaN</td>\n",
       "      <td>1</td>\n",
       "    </tr>\n",
       "    <tr>\n",
       "      <th>1</th>\n",
       "      <td>NaN</td>\n",
       "      <td>housemaid</td>\n",
       "      <td>married</td>\n",
       "      <td>professional.course</td>\n",
       "      <td>no</td>\n",
       "      <td>no</td>\n",
       "      <td>no</td>\n",
       "      <td>cellular</td>\n",
       "      <td>jul</td>\n",
       "      <td>tue</td>\n",
       "      <td>...</td>\n",
       "      <td>1.4</td>\n",
       "      <td>93.918</td>\n",
       "      <td>-42.7</td>\n",
       "      <td>4.961</td>\n",
       "      <td>5228.1</td>\n",
       "      <td>999.0</td>\n",
       "      <td>0</td>\n",
       "      <td>no</td>\n",
       "      <td>NaN</td>\n",
       "      <td>2</td>\n",
       "    </tr>\n",
       "    <tr>\n",
       "      <th>2</th>\n",
       "      <td>45.0</td>\n",
       "      <td>management</td>\n",
       "      <td>divorced</td>\n",
       "      <td>university.degree</td>\n",
       "      <td>no</td>\n",
       "      <td>no</td>\n",
       "      <td>no</td>\n",
       "      <td>cellular</td>\n",
       "      <td>apr</td>\n",
       "      <td>tue</td>\n",
       "      <td>...</td>\n",
       "      <td>-1.8</td>\n",
       "      <td>93.075</td>\n",
       "      <td>-47.1</td>\n",
       "      <td>1.453</td>\n",
       "      <td>5099.1</td>\n",
       "      <td>999.0</td>\n",
       "      <td>0</td>\n",
       "      <td>no</td>\n",
       "      <td>NaN</td>\n",
       "      <td>3</td>\n",
       "    </tr>\n",
       "    <tr>\n",
       "      <th>3</th>\n",
       "      <td>44.0</td>\n",
       "      <td>blue-collar</td>\n",
       "      <td>married</td>\n",
       "      <td>basic.4y</td>\n",
       "      <td>unknown</td>\n",
       "      <td>no</td>\n",
       "      <td>no</td>\n",
       "      <td>telephone</td>\n",
       "      <td>may</td>\n",
       "      <td>thu</td>\n",
       "      <td>...</td>\n",
       "      <td>1.1</td>\n",
       "      <td>93.994</td>\n",
       "      <td>-36.4</td>\n",
       "      <td>4.855</td>\n",
       "      <td>5191.0</td>\n",
       "      <td>999.0</td>\n",
       "      <td>0</td>\n",
       "      <td>no</td>\n",
       "      <td>NaN</td>\n",
       "      <td>4</td>\n",
       "    </tr>\n",
       "    <tr>\n",
       "      <th>4</th>\n",
       "      <td>38.0</td>\n",
       "      <td>blue-collar</td>\n",
       "      <td>married</td>\n",
       "      <td>NaN</td>\n",
       "      <td>no</td>\n",
       "      <td>no</td>\n",
       "      <td>no</td>\n",
       "      <td>cellular</td>\n",
       "      <td>nov</td>\n",
       "      <td>mon</td>\n",
       "      <td>...</td>\n",
       "      <td>-0.1</td>\n",
       "      <td>93.200</td>\n",
       "      <td>-42.0</td>\n",
       "      <td>4.191</td>\n",
       "      <td>5195.8</td>\n",
       "      <td>999.0</td>\n",
       "      <td>0</td>\n",
       "      <td>no</td>\n",
       "      <td>NaN</td>\n",
       "      <td>5</td>\n",
       "    </tr>\n",
       "  </tbody>\n",
       "</table>\n",
       "<p>5 rows × 24 columns</p>\n",
       "</div>"
      ],
      "text/plain": [
       "   custAge     profession   marital            schooling  default housing  \\\n",
       "0     49.0  self-employed   married             basic.9y       no     yes   \n",
       "1      NaN      housemaid   married  professional.course       no      no   \n",
       "2     45.0     management  divorced    university.degree       no      no   \n",
       "3     44.0    blue-collar   married             basic.4y  unknown      no   \n",
       "4     38.0    blue-collar   married                  NaN       no      no   \n",
       "\n",
       "  loan    contact month day_of_week ...  emp.var.rate  cons.price.idx  \\\n",
       "0   no  telephone   may         thu ...           1.1          93.994   \n",
       "1   no   cellular   jul         tue ...           1.4          93.918   \n",
       "2   no   cellular   apr         tue ...          -1.8          93.075   \n",
       "3   no  telephone   may         thu ...           1.1          93.994   \n",
       "4   no   cellular   nov         mon ...          -0.1          93.200   \n",
       "\n",
       "   cons.conf.idx euribor3m  nr.employed  pmonths  pastEmail  responded  \\\n",
       "0          -36.4     4.860       5191.0    999.0          0         no   \n",
       "1          -42.7     4.961       5228.1    999.0          0         no   \n",
       "2          -47.1     1.453       5099.1    999.0          0         no   \n",
       "3          -36.4     4.855       5191.0    999.0          0         no   \n",
       "4          -42.0     4.191       5195.8    999.0          0         no   \n",
       "\n",
       "   profit  id  \n",
       "0     NaN   1  \n",
       "1     NaN   2  \n",
       "2     NaN   3  \n",
       "3     NaN   4  \n",
       "4     NaN   5  \n",
       "\n",
       "[5 rows x 24 columns]"
      ]
     },
     "execution_count": 11,
     "metadata": {},
     "output_type": "execute_result"
    }
   ],
   "source": [
    "# read files\n",
    "data = pd.read_csv('training (1).csv')\n",
    "test = pd.read_csv('testingCandidate (1).csv')\n",
    "data.head()"
   ]
  },
  {
   "cell_type": "code",
   "execution_count": 26,
   "metadata": {
    "collapsed": false
   },
   "outputs": [
    {
     "data": {
      "text/plain": [
       "custAge           float64\n",
       "profession         object\n",
       "marital            object\n",
       "schooling          object\n",
       "default            object\n",
       "housing            object\n",
       "loan               object\n",
       "contact            object\n",
       "month              object\n",
       "day_of_week        object\n",
       "campaign            int64\n",
       "pdays               int64\n",
       "previous            int64\n",
       "poutcome           object\n",
       "emp.var.rate      float64\n",
       "cons.price.idx    float64\n",
       "cons.conf.idx     float64\n",
       "euribor3m         float64\n",
       "nr.employed       float64\n",
       "pmonths           float64\n",
       "pastEmail           int64\n",
       "responded          object\n",
       "profit            float64\n",
       "id                  int64\n",
       "dtype: object"
      ]
     },
     "execution_count": 26,
     "metadata": {},
     "output_type": "execute_result"
    }
   ],
   "source": [
    "data.dtypes"
   ]
  },
  {
   "cell_type": "markdown",
   "metadata": {},
   "source": [
    "### make categorical data astype `category`"
   ]
  },
  {
   "cell_type": "code",
   "execution_count": 31,
   "metadata": {
    "collapsed": false
   },
   "outputs": [],
   "source": [
    "for col in ['profession', 'marital', 'schooling', 'default', 'housing', 'loan', 'contact', 'month', 'day_of_week', 'poutcome', 'responded']:\n",
    "    data[col] = data[col].astype('category')"
   ]
  },
  {
   "cell_type": "code",
   "execution_count": 15,
   "metadata": {
    "collapsed": false
   },
   "outputs": [
    {
     "data": {
      "text/plain": [
       "(8238, 24)"
      ]
     },
     "execution_count": 15,
     "metadata": {},
     "output_type": "execute_result"
    }
   ],
   "source": [
    "data.shape"
   ]
  },
  {
   "cell_type": "code",
   "execution_count": 33,
   "metadata": {
    "collapsed": false
   },
   "outputs": [
    {
     "data": {
      "text/html": [
       "<div>\n",
       "<table border=\"1\" class=\"dataframe\">\n",
       "  <thead>\n",
       "    <tr style=\"text-align: right;\">\n",
       "      <th></th>\n",
       "      <th>custAge</th>\n",
       "      <th>profession</th>\n",
       "      <th>marital</th>\n",
       "      <th>schooling</th>\n",
       "      <th>default</th>\n",
       "      <th>housing</th>\n",
       "      <th>loan</th>\n",
       "      <th>contact</th>\n",
       "      <th>month</th>\n",
       "      <th>day_of_week</th>\n",
       "      <th>...</th>\n",
       "      <th>emp.var.rate</th>\n",
       "      <th>cons.price.idx</th>\n",
       "      <th>cons.conf.idx</th>\n",
       "      <th>euribor3m</th>\n",
       "      <th>nr.employed</th>\n",
       "      <th>pmonths</th>\n",
       "      <th>pastEmail</th>\n",
       "      <th>responded</th>\n",
       "      <th>profit</th>\n",
       "      <th>id</th>\n",
       "    </tr>\n",
       "  </thead>\n",
       "  <tbody>\n",
       "    <tr>\n",
       "      <th>count</th>\n",
       "      <td>6224.000000</td>\n",
       "      <td>8238</td>\n",
       "      <td>8238</td>\n",
       "      <td>5832</td>\n",
       "      <td>8238</td>\n",
       "      <td>8238</td>\n",
       "      <td>8238</td>\n",
       "      <td>8238</td>\n",
       "      <td>8238</td>\n",
       "      <td>7451</td>\n",
       "      <td>...</td>\n",
       "      <td>8238.000000</td>\n",
       "      <td>8238.000000</td>\n",
       "      <td>8238.000000</td>\n",
       "      <td>8238.000000</td>\n",
       "      <td>8238.000000</td>\n",
       "      <td>8238.000000</td>\n",
       "      <td>8238.000000</td>\n",
       "      <td>8238</td>\n",
       "      <td>928.000000</td>\n",
       "      <td>8238.000000</td>\n",
       "    </tr>\n",
       "    <tr>\n",
       "      <th>unique</th>\n",
       "      <td>NaN</td>\n",
       "      <td>12</td>\n",
       "      <td>4</td>\n",
       "      <td>8</td>\n",
       "      <td>3</td>\n",
       "      <td>3</td>\n",
       "      <td>3</td>\n",
       "      <td>2</td>\n",
       "      <td>10</td>\n",
       "      <td>5</td>\n",
       "      <td>...</td>\n",
       "      <td>NaN</td>\n",
       "      <td>NaN</td>\n",
       "      <td>NaN</td>\n",
       "      <td>NaN</td>\n",
       "      <td>NaN</td>\n",
       "      <td>NaN</td>\n",
       "      <td>NaN</td>\n",
       "      <td>2</td>\n",
       "      <td>NaN</td>\n",
       "      <td>NaN</td>\n",
       "    </tr>\n",
       "    <tr>\n",
       "      <th>top</th>\n",
       "      <td>NaN</td>\n",
       "      <td>admin.</td>\n",
       "      <td>married</td>\n",
       "      <td>university.degree</td>\n",
       "      <td>no</td>\n",
       "      <td>yes</td>\n",
       "      <td>no</td>\n",
       "      <td>cellular</td>\n",
       "      <td>may</td>\n",
       "      <td>mon</td>\n",
       "      <td>...</td>\n",
       "      <td>NaN</td>\n",
       "      <td>NaN</td>\n",
       "      <td>NaN</td>\n",
       "      <td>NaN</td>\n",
       "      <td>NaN</td>\n",
       "      <td>NaN</td>\n",
       "      <td>NaN</td>\n",
       "      <td>no</td>\n",
       "      <td>NaN</td>\n",
       "      <td>NaN</td>\n",
       "    </tr>\n",
       "    <tr>\n",
       "      <th>freq</th>\n",
       "      <td>NaN</td>\n",
       "      <td>2102</td>\n",
       "      <td>4957</td>\n",
       "      <td>1731</td>\n",
       "      <td>6619</td>\n",
       "      <td>4300</td>\n",
       "      <td>6775</td>\n",
       "      <td>5243</td>\n",
       "      <td>2814</td>\n",
       "      <td>1598</td>\n",
       "      <td>...</td>\n",
       "      <td>NaN</td>\n",
       "      <td>NaN</td>\n",
       "      <td>NaN</td>\n",
       "      <td>NaN</td>\n",
       "      <td>NaN</td>\n",
       "      <td>NaN</td>\n",
       "      <td>NaN</td>\n",
       "      <td>7310</td>\n",
       "      <td>NaN</td>\n",
       "      <td>NaN</td>\n",
       "    </tr>\n",
       "    <tr>\n",
       "      <th>mean</th>\n",
       "      <td>39.953728</td>\n",
       "      <td>NaN</td>\n",
       "      <td>NaN</td>\n",
       "      <td>NaN</td>\n",
       "      <td>NaN</td>\n",
       "      <td>NaN</td>\n",
       "      <td>NaN</td>\n",
       "      <td>NaN</td>\n",
       "      <td>NaN</td>\n",
       "      <td>NaN</td>\n",
       "      <td>...</td>\n",
       "      <td>0.056397</td>\n",
       "      <td>93.570977</td>\n",
       "      <td>-40.577907</td>\n",
       "      <td>3.586929</td>\n",
       "      <td>5165.575965</td>\n",
       "      <td>960.687436</td>\n",
       "      <td>0.365501</td>\n",
       "      <td>NaN</td>\n",
       "      <td>172.112069</td>\n",
       "      <td>4119.500000</td>\n",
       "    </tr>\n",
       "    <tr>\n",
       "      <th>std</th>\n",
       "      <td>10.540516</td>\n",
       "      <td>NaN</td>\n",
       "      <td>NaN</td>\n",
       "      <td>NaN</td>\n",
       "      <td>NaN</td>\n",
       "      <td>NaN</td>\n",
       "      <td>NaN</td>\n",
       "      <td>NaN</td>\n",
       "      <td>NaN</td>\n",
       "      <td>NaN</td>\n",
       "      <td>...</td>\n",
       "      <td>1.566550</td>\n",
       "      <td>0.578782</td>\n",
       "      <td>4.650101</td>\n",
       "      <td>1.742784</td>\n",
       "      <td>72.727423</td>\n",
       "      <td>191.841012</td>\n",
       "      <td>1.294101</td>\n",
       "      <td>NaN</td>\n",
       "      <td>128.999186</td>\n",
       "      <td>2378.250092</td>\n",
       "    </tr>\n",
       "    <tr>\n",
       "      <th>min</th>\n",
       "      <td>18.000000</td>\n",
       "      <td>NaN</td>\n",
       "      <td>NaN</td>\n",
       "      <td>NaN</td>\n",
       "      <td>NaN</td>\n",
       "      <td>NaN</td>\n",
       "      <td>NaN</td>\n",
       "      <td>NaN</td>\n",
       "      <td>NaN</td>\n",
       "      <td>NaN</td>\n",
       "      <td>...</td>\n",
       "      <td>-3.400000</td>\n",
       "      <td>92.201000</td>\n",
       "      <td>-50.800000</td>\n",
       "      <td>0.634000</td>\n",
       "      <td>4963.600000</td>\n",
       "      <td>0.000000</td>\n",
       "      <td>0.000000</td>\n",
       "      <td>NaN</td>\n",
       "      <td>-276.000000</td>\n",
       "      <td>1.000000</td>\n",
       "    </tr>\n",
       "    <tr>\n",
       "      <th>25%</th>\n",
       "      <td>32.000000</td>\n",
       "      <td>NaN</td>\n",
       "      <td>NaN</td>\n",
       "      <td>NaN</td>\n",
       "      <td>NaN</td>\n",
       "      <td>NaN</td>\n",
       "      <td>NaN</td>\n",
       "      <td>NaN</td>\n",
       "      <td>NaN</td>\n",
       "      <td>NaN</td>\n",
       "      <td>...</td>\n",
       "      <td>-1.800000</td>\n",
       "      <td>93.075000</td>\n",
       "      <td>-42.700000</td>\n",
       "      <td>1.334000</td>\n",
       "      <td>5099.100000</td>\n",
       "      <td>999.000000</td>\n",
       "      <td>0.000000</td>\n",
       "      <td>NaN</td>\n",
       "      <td>124.000000</td>\n",
       "      <td>2060.250000</td>\n",
       "    </tr>\n",
       "    <tr>\n",
       "      <th>50%</th>\n",
       "      <td>38.000000</td>\n",
       "      <td>NaN</td>\n",
       "      <td>NaN</td>\n",
       "      <td>NaN</td>\n",
       "      <td>NaN</td>\n",
       "      <td>NaN</td>\n",
       "      <td>NaN</td>\n",
       "      <td>NaN</td>\n",
       "      <td>NaN</td>\n",
       "      <td>NaN</td>\n",
       "      <td>...</td>\n",
       "      <td>1.100000</td>\n",
       "      <td>93.444000</td>\n",
       "      <td>-41.800000</td>\n",
       "      <td>4.857000</td>\n",
       "      <td>5191.000000</td>\n",
       "      <td>999.000000</td>\n",
       "      <td>0.000000</td>\n",
       "      <td>NaN</td>\n",
       "      <td>170.000000</td>\n",
       "      <td>4119.500000</td>\n",
       "    </tr>\n",
       "    <tr>\n",
       "      <th>75%</th>\n",
       "      <td>47.000000</td>\n",
       "      <td>NaN</td>\n",
       "      <td>NaN</td>\n",
       "      <td>NaN</td>\n",
       "      <td>NaN</td>\n",
       "      <td>NaN</td>\n",
       "      <td>NaN</td>\n",
       "      <td>NaN</td>\n",
       "      <td>NaN</td>\n",
       "      <td>NaN</td>\n",
       "      <td>...</td>\n",
       "      <td>1.400000</td>\n",
       "      <td>93.994000</td>\n",
       "      <td>-36.400000</td>\n",
       "      <td>4.961000</td>\n",
       "      <td>5228.100000</td>\n",
       "      <td>999.000000</td>\n",
       "      <td>0.000000</td>\n",
       "      <td>NaN</td>\n",
       "      <td>213.250000</td>\n",
       "      <td>6178.750000</td>\n",
       "    </tr>\n",
       "    <tr>\n",
       "      <th>max</th>\n",
       "      <td>94.000000</td>\n",
       "      <td>NaN</td>\n",
       "      <td>NaN</td>\n",
       "      <td>NaN</td>\n",
       "      <td>NaN</td>\n",
       "      <td>NaN</td>\n",
       "      <td>NaN</td>\n",
       "      <td>NaN</td>\n",
       "      <td>NaN</td>\n",
       "      <td>NaN</td>\n",
       "      <td>...</td>\n",
       "      <td>1.400000</td>\n",
       "      <td>94.767000</td>\n",
       "      <td>-26.900000</td>\n",
       "      <td>5.045000</td>\n",
       "      <td>5228.100000</td>\n",
       "      <td>999.000000</td>\n",
       "      <td>25.000000</td>\n",
       "      <td>NaN</td>\n",
       "      <td>515.000000</td>\n",
       "      <td>8238.000000</td>\n",
       "    </tr>\n",
       "  </tbody>\n",
       "</table>\n",
       "<p>11 rows × 24 columns</p>\n",
       "</div>"
      ],
      "text/plain": [
       "            custAge profession  marital          schooling default housing  \\\n",
       "count   6224.000000       8238     8238               5832    8238    8238   \n",
       "unique          NaN         12        4                  8       3       3   \n",
       "top             NaN     admin.  married  university.degree      no     yes   \n",
       "freq            NaN       2102     4957               1731    6619    4300   \n",
       "mean      39.953728        NaN      NaN                NaN     NaN     NaN   \n",
       "std       10.540516        NaN      NaN                NaN     NaN     NaN   \n",
       "min       18.000000        NaN      NaN                NaN     NaN     NaN   \n",
       "25%       32.000000        NaN      NaN                NaN     NaN     NaN   \n",
       "50%       38.000000        NaN      NaN                NaN     NaN     NaN   \n",
       "75%       47.000000        NaN      NaN                NaN     NaN     NaN   \n",
       "max       94.000000        NaN      NaN                NaN     NaN     NaN   \n",
       "\n",
       "        loan   contact month day_of_week     ...       emp.var.rate  \\\n",
       "count   8238      8238  8238        7451     ...        8238.000000   \n",
       "unique     3         2    10           5     ...                NaN   \n",
       "top       no  cellular   may         mon     ...                NaN   \n",
       "freq    6775      5243  2814        1598     ...                NaN   \n",
       "mean     NaN       NaN   NaN         NaN     ...           0.056397   \n",
       "std      NaN       NaN   NaN         NaN     ...           1.566550   \n",
       "min      NaN       NaN   NaN         NaN     ...          -3.400000   \n",
       "25%      NaN       NaN   NaN         NaN     ...          -1.800000   \n",
       "50%      NaN       NaN   NaN         NaN     ...           1.100000   \n",
       "75%      NaN       NaN   NaN         NaN     ...           1.400000   \n",
       "max      NaN       NaN   NaN         NaN     ...           1.400000   \n",
       "\n",
       "        cons.price.idx  cons.conf.idx    euribor3m  nr.employed      pmonths  \\\n",
       "count      8238.000000    8238.000000  8238.000000  8238.000000  8238.000000   \n",
       "unique             NaN            NaN          NaN          NaN          NaN   \n",
       "top                NaN            NaN          NaN          NaN          NaN   \n",
       "freq               NaN            NaN          NaN          NaN          NaN   \n",
       "mean         93.570977     -40.577907     3.586929  5165.575965   960.687436   \n",
       "std           0.578782       4.650101     1.742784    72.727423   191.841012   \n",
       "min          92.201000     -50.800000     0.634000  4963.600000     0.000000   \n",
       "25%          93.075000     -42.700000     1.334000  5099.100000   999.000000   \n",
       "50%          93.444000     -41.800000     4.857000  5191.000000   999.000000   \n",
       "75%          93.994000     -36.400000     4.961000  5228.100000   999.000000   \n",
       "max          94.767000     -26.900000     5.045000  5228.100000   999.000000   \n",
       "\n",
       "          pastEmail  responded      profit           id  \n",
       "count   8238.000000       8238  928.000000  8238.000000  \n",
       "unique          NaN          2         NaN          NaN  \n",
       "top             NaN         no         NaN          NaN  \n",
       "freq            NaN       7310         NaN          NaN  \n",
       "mean       0.365501        NaN  172.112069  4119.500000  \n",
       "std        1.294101        NaN  128.999186  2378.250092  \n",
       "min        0.000000        NaN -276.000000     1.000000  \n",
       "25%        0.000000        NaN  124.000000  2060.250000  \n",
       "50%        0.000000        NaN  170.000000  4119.500000  \n",
       "75%        0.000000        NaN  213.250000  6178.750000  \n",
       "max       25.000000        NaN  515.000000  8238.000000  \n",
       "\n",
       "[11 rows x 24 columns]"
      ]
     },
     "execution_count": 33,
     "metadata": {},
     "output_type": "execute_result"
    }
   ],
   "source": [
    "# Data Description\n",
    "data.describe(include='all')"
   ]
  },
  {
   "cell_type": "code",
   "execution_count": 69,
   "metadata": {
    "collapsed": false
   },
   "outputs": [
    {
     "name": "stdout",
     "output_type": "stream",
     "text": [
      "[self-employed, housemaid, management, blue-collar, technician, ..., retired, services, unemployed, student, unknown]\n",
      "Length: 12\n",
      "Categories (12, object): [self-employed, housemaid, management, blue-collar, ..., services, unemployed, student, unknown]\n",
      "[married, divorced, single, unknown]\n",
      "Categories (4, object): [married, divorced, single, unknown]\n",
      "[basic.9y, professional.course, university.degree, basic.4y, unknown, high.school, basic.6y, illiterate]\n",
      "Categories (8, object): [basic.9y, professional.course, university.degree, basic.4y, unknown, high.school, basic.6y, illiterate]\n",
      "[no, unknown, yes]\n",
      "Categories (3, object): [no, unknown, yes]\n",
      "[yes, no, unknown]\n",
      "Categories (3, object): [yes, no, unknown]\n",
      "[no, yes, unknown]\n",
      "Categories (3, object): [no, yes, unknown]\n",
      "[telephone, cellular]\n",
      "Categories (2, object): [telephone, cellular]\n",
      "[may, jul, apr, nov, jun, aug, mar, sep, oct, dec]\n",
      "Categories (10, object): [may, jul, apr, nov, ..., mar, sep, oct, dec]\n",
      "[thu, tue, mon, fri, wed, NaN]\n",
      "Categories (5, object): [thu, tue, mon, fri, wed]\n",
      "[nonexistent, failure, success]\n",
      "Categories (3, object): [nonexistent, failure, success]\n",
      "[no, yes]\n",
      "Categories (2, object): [no, yes]\n"
     ]
    }
   ],
   "source": [
    "for col in data.columns:\n",
    "    if data[col].dtype.name=='category':\n",
    "        print(data[col].unique())"
   ]
  },
  {
   "cell_type": "markdown",
   "metadata": {},
   "source": [
    "Data Cleaning\n",
    "=="
   ]
  },
  {
   "cell_type": "markdown",
   "metadata": {},
   "source": [
    "There is missingness in column `custAge`, `schooling` and `day_of_week`. Let's look into those columns to figure it out."
   ]
  },
  {
   "cell_type": "code",
   "execution_count": 60,
   "metadata": {
    "collapsed": false
   },
   "outputs": [
    {
     "data": {
      "text/plain": [
       "[may, jul, apr, nov, jun, aug, mar, sep, oct, dec]\n",
       "Categories (10, object): [may, jul, apr, nov, ..., mar, sep, oct, dec]"
      ]
     },
     "execution_count": 60,
     "metadata": {},
     "output_type": "execute_result"
    }
   ],
   "source": [
    "data['month'].unique()"
   ]
  },
  {
   "cell_type": "code",
   "execution_count": 13,
   "metadata": {
    "collapsed": false
   },
   "outputs": [
    {
     "data": {
      "text/plain": [
       "custAge            True\n",
       "profession        False\n",
       "marital           False\n",
       "schooling          True\n",
       "default           False\n",
       "housing           False\n",
       "loan              False\n",
       "contact           False\n",
       "month             False\n",
       "day_of_week        True\n",
       "campaign          False\n",
       "pdays             False\n",
       "previous          False\n",
       "poutcome          False\n",
       "emp.var.rate      False\n",
       "cons.price.idx    False\n",
       "cons.conf.idx     False\n",
       "euribor3m         False\n",
       "nr.employed       False\n",
       "pmonths           False\n",
       "pastEmail         False\n",
       "responded         False\n",
       "profit             True\n",
       "id                False\n",
       "dtype: bool"
      ]
     },
     "execution_count": 13,
     "metadata": {},
     "output_type": "execute_result"
    }
   ],
   "source": [
    "data.isnull().any()"
   ]
  },
  {
   "cell_type": "code",
   "execution_count": 34,
   "metadata": {
    "collapsed": false
   },
   "outputs": [],
   "source": [
    "data[data['custAge'].isnull()];"
   ]
  },
  {
   "cell_type": "code",
   "execution_count": 50,
   "metadata": {
    "collapsed": false
   },
   "outputs": [
    {
     "data": {
      "image/png": "[encoded data removed]",
      "text/plain": [
       "<matplotlib.figure.Figure at 0x12348a470>"
      ]
     },
     "metadata": {},
     "output_type": "display_data"
    }
   ],
   "source": [
    "plt.hist(data['custAge'].dropna());"
   ]
  },
  {
   "cell_type": "code",
   "execution_count": 40,
   "metadata": {
    "collapsed": false
   },
   "outputs": [
    {
     "data": {
      "text/plain": [
       "[basic.9y, professional.course, university.degree, basic.4y, unknown, high.school, basic.6y, illiterate]\n",
       "Categories (8, object): [basic.9y, professional.course, university.degree, basic.4y, unknown, high.school, basic.6y, illiterate]"
      ]
     },
     "execution_count": 40,
     "metadata": {},
     "output_type": "execute_result"
    }
   ],
   "source": [
    "data['schooling'].unique()"
   ]
  },
  {
   "cell_type": "code",
   "execution_count": 51,
   "metadata": {
    "collapsed": false
   },
   "outputs": [
    {
     "data": {
      "image/png": "[encoded data removed]",
      "text/plain": [
       "<matplotlib.figure.Figure at 0x11fc11588>"
      ]
     },
     "metadata": {},
     "output_type": "display_data"
    }
   ],
   "source": [
    "sns.countplot(x=\"schooling\", data=data);"
   ]
  },
  {
   "cell_type": "code",
   "execution_count": 39,
   "metadata": {
    "collapsed": false
   },
   "outputs": [],
   "source": [
    "data.loc[data['schooling'].isnull(),'schooling'] = 'unknown'"
   ]
  },
  {
   "cell_type": "code",
   "execution_count": 41,
   "metadata": {
    "collapsed": false
   },
   "outputs": [
    {
     "data": {
      "text/plain": [
       "[thu, tue, mon, fri, wed, NaN]\n",
       "Categories (5, object): [thu, tue, mon, fri, wed]"
      ]
     },
     "execution_count": 41,
     "metadata": {},
     "output_type": "execute_result"
    }
   ],
   "source": [
    "data['day_of_week'].unique()"
   ]
  },
  {
   "cell_type": "code",
   "execution_count": 49,
   "metadata": {
    "collapsed": false
   },
   "outputs": [
    {
     "data": {
      "image/png": "[encoded data removed]",
      "text/plain": [
       "<matplotlib.figure.Figure at 0x11fd565c0>"
      ]
     },
     "metadata": {},
     "output_type": "display_data"
    }
   ],
   "source": [
    "sns.countplot(x=\"day_of_week\", data=data);"
   ]
  },
  {
   "cell_type": "code",
   "execution_count": 44,
   "metadata": {
    "collapsed": false
   },
   "outputs": [
    {
     "data": {
      "image/png": "[encoded data removed]",
      "text/plain": [
       "<matplotlib.figure.Figure at 0x11fd65978>"
      ]
     },
     "metadata": {},
     "output_type": "display_data"
    }
   ],
   "source": [
    "plt.hist(data['profit'].dropna());"
   ]
  },
  {
   "cell_type": "code",
   "execution_count": 55,
   "metadata": {
    "collapsed": false
   },
   "outputs": [
    {
     "data": {
      "image/png": "[encoded data removed]",
      "text/plain": [
       "<matplotlib.figure.Figure at 0x123a7cef0>"
      ]
     },
     "metadata": {},
     "output_type": "display_data"
    }
   ],
   "source": [
    "sns.countplot(x=\"responded\", data=data);"
   ]
  }
 ],
 "metadata": {
  "kernelspec": {
   "display_name": "Python 3",
   "language": "python",
   "name": "python3"
  },
  "language_info": {
   "codemirror_mode": {
    "name": "ipython",
    "version": 3
   },
   "file_extension": ".py",
   "mimetype": "text/x-python",
   "name": "python",
   "nbconvert_exporter": "python",
   "pygments_lexer": "ipython3",
   "version": "3.5.3"
  }
 },
 "nbformat": 4,
 "nbformat_minor": 0
}
